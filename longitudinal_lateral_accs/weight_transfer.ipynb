{
 "cells": [
  {
   "cell_type": "code",
   "execution_count": 1,
   "id": "78ce2af0-0785-47e2-bade-8ddb5472e6c0",
   "metadata": {},
   "outputs": [],
   "source": [
    "import pandas as pd\n",
    "import seaborn as srn"
   ]
  },
  {
   "cell_type": "code",
   "execution_count": 2,
   "id": "7b3e11ef-04ba-4b81-b335-0866cfba5cca",
   "metadata": {},
   "outputs": [
    {
     "data": {
      "text/html": [
       "<div>\n",
       "<style scoped>\n",
       "    .dataframe tbody tr th:only-of-type {\n",
       "        vertical-align: middle;\n",
       "    }\n",
       "\n",
       "    .dataframe tbody tr th {\n",
       "        vertical-align: top;\n",
       "    }\n",
       "\n",
       "    .dataframe thead th {\n",
       "        text-align: right;\n",
       "    }\n",
       "</style>\n",
       "<table border=\"1\" class=\"dataframe\">\n",
       "  <thead>\n",
       "    <tr style=\"text-align: right;\">\n",
       "      <th></th>\n",
       "      <th>Distance</th>\n",
       "      <th>Speed</th>\n",
       "      <th>Lateral G</th>\n",
       "      <th>Longitudinal G</th>\n",
       "    </tr>\n",
       "  </thead>\n",
       "  <tbody>\n",
       "    <tr>\n",
       "      <th>0</th>\n",
       "      <td>0</td>\n",
       "      <td>194.599999</td>\n",
       "      <td>0.057766</td>\n",
       "      <td>0.162072</td>\n",
       "    </tr>\n",
       "    <tr>\n",
       "      <th>1</th>\n",
       "      <td>5</td>\n",
       "      <td>195.749999</td>\n",
       "      <td>0.079589</td>\n",
       "      <td>0.205385</td>\n",
       "    </tr>\n",
       "    <tr>\n",
       "      <th>2</th>\n",
       "      <td>11</td>\n",
       "      <td>196.099999</td>\n",
       "      <td>0.093068</td>\n",
       "      <td>0.195617</td>\n",
       "    </tr>\n",
       "    <tr>\n",
       "      <th>3</th>\n",
       "      <td>16</td>\n",
       "      <td>197.049999</td>\n",
       "      <td>0.093710</td>\n",
       "      <td>0.204164</td>\n",
       "    </tr>\n",
       "    <tr>\n",
       "      <th>4</th>\n",
       "      <td>22</td>\n",
       "      <td>197.749999</td>\n",
       "      <td>0.082157</td>\n",
       "      <td>0.199280</td>\n",
       "    </tr>\n",
       "  </tbody>\n",
       "</table>\n",
       "</div>"
      ],
      "text/plain": [
       "   Distance       Speed  Lateral G  Longitudinal G\n",
       "0         0  194.599999   0.057766        0.162072\n",
       "1         5  195.749999   0.079589        0.205385\n",
       "2        11  196.099999   0.093068        0.195617\n",
       "3        16  197.049999   0.093710        0.204164\n",
       "4        22  197.749999   0.082157        0.199280"
      ]
     },
     "execution_count": 2,
     "metadata": {},
     "output_type": "execute_result"
    }
   ],
   "source": [
    "# importing and viewing data\n",
    "dataset = pd.read_csv(\"longitudinal_lateral_accs/long-lat-acc.csv\")\n",
    "dataset.head()"
   ]
  },
  {
   "cell_type": "code",
   "execution_count": 3,
   "id": "78fadcc3-e76f-4c72-b2a5-d84d12255587",
   "metadata": {},
   "outputs": [
    {
     "data": {
      "text/plain": [
       "(886, 4)"
      ]
     },
     "execution_count": 3,
     "metadata": {},
     "output_type": "execute_result"
    }
   ],
   "source": [
    "# size\n",
    "dataset.shape"
   ]
  },
  {
   "cell_type": "code",
   "execution_count": 4,
   "id": "2f69203f-605f-4557-be17-f62f3563b28f",
   "metadata": {},
   "outputs": [
    {
     "data": {
      "text/plain": [
       "count    886.000000\n",
       "mean     133.126297\n",
       "std       39.199851\n",
       "min       62.199999\n",
       "25%      101.199999\n",
       "50%      130.599999\n",
       "75%      163.574999\n",
       "max      221.599999\n",
       "Name: Speed, dtype: float64"
      ]
     },
     "execution_count": 4,
     "metadata": {},
     "output_type": "execute_result"
    }
   ],
   "source": [
    "# exploring numeric columns\n",
    "# speed\n",
    "dataset['Speed'].describe()"
   ]
  },
  {
   "cell_type": "code",
   "execution_count": 7,
   "id": "4b56832e-9922-4898-b1a7-d70a3c1e1a4a",
   "metadata": {},
   "outputs": [
    {
     "data": {
      "text/plain": [
       "count    886.000000\n",
       "mean      -0.202343\n",
       "std        1.052445\n",
       "min       -2.110941\n",
       "25%       -1.261035\n",
       "50%       -0.161952\n",
       "75%        0.770700\n",
       "max        1.775995\n",
       "Name: Lateral G, dtype: float64"
      ]
     },
     "execution_count": 7,
     "metadata": {},
     "output_type": "execute_result"
    }
   ],
   "source": [
    "# lateral g\n",
    "dataset['Lateral G'].describe()"
   ]
  },
  {
   "cell_type": "code",
   "execution_count": 8,
   "id": "8620c44f-41b1-4958-855e-29579281c9e9",
   "metadata": {},
   "outputs": [
    {
     "data": {
      "text/plain": [
       "count    886.000000\n",
       "mean       0.041330\n",
       "std        0.512824\n",
       "min       -1.571429\n",
       "25%       -0.207080\n",
       "50%        0.230384\n",
       "75%        0.389756\n",
       "max        0.798792\n",
       "Name: Longitudinal G, dtype: float64"
      ]
     },
     "execution_count": 8,
     "metadata": {},
     "output_type": "execute_result"
    }
   ],
   "source": [
    "# longitudinal g\n",
    "dataset['Longitudinal G'].describe()"
   ]
  }
 ],
 "metadata": {
  "kernelspec": {
   "display_name": "Python 3 (ipykernel)",
   "language": "python",
   "name": "python3"
  },
  "language_info": {
   "codemirror_mode": {
    "name": "ipython",
    "version": 3
   },
   "file_extension": ".py",
   "mimetype": "text/x-python",
   "name": "python",
   "nbconvert_exporter": "python",
   "pygments_lexer": "ipython3",
   "version": "3.10.9"
  }
 },
 "nbformat": 4,
 "nbformat_minor": 5
}
